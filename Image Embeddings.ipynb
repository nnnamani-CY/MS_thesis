{
 "cells": [
  {
   "cell_type": "code",
   "execution_count": 1,
   "metadata": {},
   "outputs": [],
   "source": [
    "import numpy as np\n",
    "import requests\n",
    "from PIL import Image\n",
    "import pandas as pd\n",
    "from tqdm import tqdm\n",
    "from efficientnet.keras import EfficientNetB6\n",
    "from efficientnet.keras import center_crop_and_resize, preprocess_input\n",
    "import keras"
   ]
  },
  {
   "cell_type": "code",
   "execution_count": 2,
   "metadata": {},
   "outputs": [],
   "source": [
    "#preprocesses the images and runs through effecientNet\n",
    "def image_embeddings_keras(image,model):\n",
    "    image_size = model.input_shape[1]\n",
    "    cursor = 0\n",
    "    \n",
    "    x = center_crop_and_resize(image, image_size=image_size)\n",
    "    x = preprocess_input(x)\n",
    "    x = np.expand_dims(x,axis = 0)\n",
    "    if x.shape == (1, 528, 528, 3):\n",
    "        embedding = model.predict(x)\n",
    "    else:\n",
    "        return(False)\n",
    "    return(embedding)\n",
    "\n",
    "#get the updated effecientNet model with the final 3 layers replaced with global pooling and dense layer\n",
    "def get_image_model():\n",
    "    source_model = EfficientNetB6(weights='imagenet')\n",
    "    test_model = source_model.layers[-3].output\n",
    "    predictions = keras.layers.Dense(2304)(test_model)\n",
    "    image_embedding_model = keras.Model(inputs = source_model.input, outputs = predictions)\n",
    "    return(image_embedding_model)"
   ]
  },
  {
   "cell_type": "code",
   "execution_count": 3,
   "metadata": {},
   "outputs": [
    {
     "data": {
      "text/html": [
       "<div>\n",
       "<style scoped>\n",
       "    .dataframe tbody tr th:only-of-type {\n",
       "        vertical-align: middle;\n",
       "    }\n",
       "\n",
       "    .dataframe tbody tr th {\n",
       "        vertical-align: top;\n",
       "    }\n",
       "\n",
       "    .dataframe thead th {\n",
       "        text-align: right;\n",
       "    }\n",
       "</style>\n",
       "<table border=\"1\" class=\"dataframe\">\n",
       "  <thead>\n",
       "    <tr style=\"text-align: right;\">\n",
       "      <th></th>\n",
       "      <th>tweet</th>\n",
       "      <th>country_code</th>\n",
       "      <th>bounding_box</th>\n",
       "      <th>screen_name</th>\n",
       "      <th>favourites_count</th>\n",
       "      <th>followers_count</th>\n",
       "      <th>statuses_count</th>\n",
       "      <th>friends_count</th>\n",
       "      <th>listed_count</th>\n",
       "      <th>image_url</th>\n",
       "      <th>banner_url</th>\n",
       "      <th>centroid</th>\n",
       "      <th>country_name</th>\n",
       "    </tr>\n",
       "  </thead>\n",
       "  <tbody>\n",
       "    <tr>\n",
       "      <th>0</th>\n",
       "      <td>#USGS07343000 - N Sulphur Rv nr Cooper, TX \\nH...</td>\n",
       "      <td>US</td>\n",
       "      <td>[[[-106.645646, 25.837092], [-106.645646, 36.5...</td>\n",
       "      <td>USGS_TexasRain</td>\n",
       "      <td>0.0</td>\n",
       "      <td>1377.0</td>\n",
       "      <td>34433.0</td>\n",
       "      <td>1.0</td>\n",
       "      <td>69.0</td>\n",
       "      <td>https://pbs.twimg.com/profile_images/875796316...</td>\n",
       "      <td>https://pbs.twimg.com/profile_banners/71521146...</td>\n",
       "      <td>(31.1688935, -100.0768885)</td>\n",
       "      <td>United States</td>\n",
       "    </tr>\n",
       "    <tr>\n",
       "      <th>1</th>\n",
       "      <td>https://t.co/ONEYjodpYc</td>\n",
       "      <td>US</td>\n",
       "      <td>[[[-80.196625, 26.150489], [-80.196625, 26.209...</td>\n",
       "      <td>GetYoPrimeOn</td>\n",
       "      <td>2771.0</td>\n",
       "      <td>808.0</td>\n",
       "      <td>27208.0</td>\n",
       "      <td>680.0</td>\n",
       "      <td>3.0</td>\n",
       "      <td>https://pbs.twimg.com/profile_images/112552666...</td>\n",
       "      <td>https://pbs.twimg.com/profile_banners/32416638...</td>\n",
       "      <td>(26.1799205, -80.156826)</td>\n",
       "      <td>United States</td>\n",
       "    </tr>\n",
       "    <tr>\n",
       "      <th>2</th>\n",
       "      <td>this still Denzels best performance</td>\n",
       "      <td>US</td>\n",
       "      <td>[[[-76.22808, 36.672684], [-76.22808, 36.93239...</td>\n",
       "      <td>marcsuckstoes</td>\n",
       "      <td>225.0</td>\n",
       "      <td>117.0</td>\n",
       "      <td>1389.0</td>\n",
       "      <td>203.0</td>\n",
       "      <td>0.0</td>\n",
       "      <td>https://pbs.twimg.com/profile_images/130316925...</td>\n",
       "      <td>https://pbs.twimg.com/profile_banners/53844606...</td>\n",
       "      <td>(36.8025415, -76.069946)</td>\n",
       "      <td>United States</td>\n",
       "    </tr>\n",
       "    <tr>\n",
       "      <th>3</th>\n",
       "      <td>@annkozma723 @sdtitmas @IanStuart66 @mtholfsen...</td>\n",
       "      <td>US</td>\n",
       "      <td>[[[-74.041878, 40.570842], [-74.041878, 40.739...</td>\n",
       "      <td>seanmarnold</td>\n",
       "      <td>6518.0</td>\n",
       "      <td>3192.0</td>\n",
       "      <td>6096.0</td>\n",
       "      <td>1957.0</td>\n",
       "      <td>79.0</td>\n",
       "      <td>https://pbs.twimg.com/profile_images/121654772...</td>\n",
       "      <td>https://pbs.twimg.com/profile_banners/18243997...</td>\n",
       "      <td>(40.655138, -73.9487755)</td>\n",
       "      <td>United States</td>\n",
       "    </tr>\n",
       "    <tr>\n",
       "      <th>4</th>\n",
       "      <td>@MatthewCappucci Don’t try.  It’s not worth th...</td>\n",
       "      <td>US</td>\n",
       "      <td>[[[-77.220557, 39.053158], [-77.220557, 39.120...</td>\n",
       "      <td>DRmetwatch</td>\n",
       "      <td>92284.0</td>\n",
       "      <td>1962.0</td>\n",
       "      <td>14132.0</td>\n",
       "      <td>889.0</td>\n",
       "      <td>119.0</td>\n",
       "      <td>https://pbs.twimg.com/profile_images/117405337...</td>\n",
       "      <td>https://pbs.twimg.com/profile_banners/32468285...</td>\n",
       "      <td>(39.08705500000001, -77.16310250000001)</td>\n",
       "      <td>United States</td>\n",
       "    </tr>\n",
       "  </tbody>\n",
       "</table>\n",
       "</div>"
      ],
      "text/plain": [
       "                                               tweet country_code  \\\n",
       "0  #USGS07343000 - N Sulphur Rv nr Cooper, TX \\nH...           US   \n",
       "1                            https://t.co/ONEYjodpYc           US   \n",
       "2                this still Denzels best performance           US   \n",
       "3  @annkozma723 @sdtitmas @IanStuart66 @mtholfsen...           US   \n",
       "4  @MatthewCappucci Don’t try.  It’s not worth th...           US   \n",
       "\n",
       "                                        bounding_box     screen_name  \\\n",
       "0  [[[-106.645646, 25.837092], [-106.645646, 36.5...  USGS_TexasRain   \n",
       "1  [[[-80.196625, 26.150489], [-80.196625, 26.209...    GetYoPrimeOn   \n",
       "2  [[[-76.22808, 36.672684], [-76.22808, 36.93239...   marcsuckstoes   \n",
       "3  [[[-74.041878, 40.570842], [-74.041878, 40.739...     seanmarnold   \n",
       "4  [[[-77.220557, 39.053158], [-77.220557, 39.120...      DRmetwatch   \n",
       "\n",
       "   favourites_count  followers_count  statuses_count  friends_count  \\\n",
       "0               0.0           1377.0         34433.0            1.0   \n",
       "1            2771.0            808.0         27208.0          680.0   \n",
       "2             225.0            117.0          1389.0          203.0   \n",
       "3            6518.0           3192.0          6096.0         1957.0   \n",
       "4           92284.0           1962.0         14132.0          889.0   \n",
       "\n",
       "   listed_count                                          image_url  \\\n",
       "0          69.0  https://pbs.twimg.com/profile_images/875796316...   \n",
       "1           3.0  https://pbs.twimg.com/profile_images/112552666...   \n",
       "2           0.0  https://pbs.twimg.com/profile_images/130316925...   \n",
       "3          79.0  https://pbs.twimg.com/profile_images/121654772...   \n",
       "4         119.0  https://pbs.twimg.com/profile_images/117405337...   \n",
       "\n",
       "                                          banner_url  \\\n",
       "0  https://pbs.twimg.com/profile_banners/71521146...   \n",
       "1  https://pbs.twimg.com/profile_banners/32416638...   \n",
       "2  https://pbs.twimg.com/profile_banners/53844606...   \n",
       "3  https://pbs.twimg.com/profile_banners/18243997...   \n",
       "4  https://pbs.twimg.com/profile_banners/32468285...   \n",
       "\n",
       "                                  centroid   country_name  \n",
       "0               (31.1688935, -100.0768885)  United States  \n",
       "1                 (26.1799205, -80.156826)  United States  \n",
       "2                 (36.8025415, -76.069946)  United States  \n",
       "3                 (40.655138, -73.9487755)  United States  \n",
       "4  (39.08705500000001, -77.16310250000001)  United States  "
      ]
     },
     "execution_count": 3,
     "metadata": {},
     "output_type": "execute_result"
    }
   ],
   "source": [
    "#read dataset\n",
    "data = pd.read_csv('New_balance_valid_url.csv')\n",
    "data.head()"
   ]
  },
  {
   "cell_type": "code",
   "execution_count": 25,
   "metadata": {},
   "outputs": [],
   "source": [
    "effNet = get_image_model()"
   ]
  },
  {
   "cell_type": "code",
   "execution_count": 20,
   "metadata": {},
   "outputs": [
    {
     "data": {
      "text/plain": [
       "(None, 528, 528, 3)"
      ]
     },
     "execution_count": 20,
     "metadata": {},
     "output_type": "execute_result"
    }
   ],
   "source": [
    "effNet.input_shape"
   ]
  },
  {
   "cell_type": "code",
   "execution_count": 22,
   "metadata": {},
   "outputs": [
    {
     "name": "stderr",
     "output_type": "stream",
     "text": [
      "  0%|                                                                             | 11/12650 [00:07<2:14:58,  1.56it/s]\n"
     ]
    }
   ],
   "source": [
    "#extract embeddings from url\n",
    "\n",
    "full_dict = {}\n",
    "image_embeddings = {}\n",
    "count = range(len(data))\n",
    "for row in tqdm(count):\n",
    "    embedding_list = []\n",
    "    \n",
    "    #extract the image urls\n",
    "    profile_url =  data.iloc[row]['image_url']\n",
    "    banner_url = data.iloc[row]['banner_url']\n",
    "    try:\n",
    "        #make request to get images, run images through preprocessing and embeddings model, add embeddings to dictionary\n",
    "        x=np.asarray(Image.open(requests.get(profile_url, stream=True).raw).convert('RGB'))\n",
    "        x = image_embeddings_keras(x,effNet)\n",
    "        image_embeddings[\"profile_embedding\"] = x.squeeze()\n",
    "        \n",
    "        x=np.asarray(Image.open(requests.get(banner_url, stream=True).raw).convert('RGB'))\n",
    "        x = image_embeddings_keras(x,effNet)\n",
    "        image_embeddings[\"banner_embedding\"] = x.squeeze()\n",
    "    except:\n",
    "        pass\n",
    "    \n",
    "    #check if both profile and banner images were extracted\n",
    "    if len(image_embeddings)==2:\n",
    "        full_dict[data.iloc[row]['screen_name']] = image_embeddings\n",
    "    else:\n",
    "        pass\n",
    "    \n",
    "    #run only 10 times for trial purposes\n",
    "    if row>10:\n",
    "        break\n"
   ]
  },
  {
   "cell_type": "code",
   "execution_count": 23,
   "metadata": {},
   "outputs": [
    {
     "data": {
      "text/plain": [
       "{'USGS_TexasRain': {'profile_embedding': array([ 0.1885559 ,  0.02216596, -0.09074964, ...,  0.17200744,\n",
       "         -0.09153228,  0.34097442], dtype=float32),\n",
       "  'banner_embedding': array([-0.04192941, -0.18187144, -0.2035078 , ...,  0.0423746 ,\n",
       "         -0.1658499 ,  0.11950806], dtype=float32)},\n",
       " 'GetYoPrimeOn': {'profile_embedding': array([ 0.1885559 ,  0.02216596, -0.09074964, ...,  0.17200744,\n",
       "         -0.09153228,  0.34097442], dtype=float32),\n",
       "  'banner_embedding': array([-0.04192941, -0.18187144, -0.2035078 , ...,  0.0423746 ,\n",
       "         -0.1658499 ,  0.11950806], dtype=float32)},\n",
       " 'marcsuckstoes': {'profile_embedding': array([ 0.1885559 ,  0.02216596, -0.09074964, ...,  0.17200744,\n",
       "         -0.09153228,  0.34097442], dtype=float32),\n",
       "  'banner_embedding': array([-0.04192941, -0.18187144, -0.2035078 , ...,  0.0423746 ,\n",
       "         -0.1658499 ,  0.11950806], dtype=float32)},\n",
       " 'seanmarnold': {'profile_embedding': array([ 0.1885559 ,  0.02216596, -0.09074964, ...,  0.17200744,\n",
       "         -0.09153228,  0.34097442], dtype=float32),\n",
       "  'banner_embedding': array([-0.04192941, -0.18187144, -0.2035078 , ...,  0.0423746 ,\n",
       "         -0.1658499 ,  0.11950806], dtype=float32)},\n",
       " 'DRmetwatch': {'profile_embedding': array([ 0.1885559 ,  0.02216596, -0.09074964, ...,  0.17200744,\n",
       "         -0.09153228,  0.34097442], dtype=float32),\n",
       "  'banner_embedding': array([-0.04192941, -0.18187144, -0.2035078 , ...,  0.0423746 ,\n",
       "         -0.1658499 ,  0.11950806], dtype=float32)},\n",
       " '_iaritaa_': {'profile_embedding': array([ 0.1885559 ,  0.02216596, -0.09074964, ...,  0.17200744,\n",
       "         -0.09153228,  0.34097442], dtype=float32),\n",
       "  'banner_embedding': array([-0.04192941, -0.18187144, -0.2035078 , ...,  0.0423746 ,\n",
       "         -0.1658499 ,  0.11950806], dtype=float32)},\n",
       " 'ConlinRei': {'profile_embedding': array([ 0.1885559 ,  0.02216596, -0.09074964, ...,  0.17200744,\n",
       "         -0.09153228,  0.34097442], dtype=float32),\n",
       "  'banner_embedding': array([-0.04192941, -0.18187144, -0.2035078 , ...,  0.0423746 ,\n",
       "         -0.1658499 ,  0.11950806], dtype=float32)},\n",
       " 'Bgivey': {'profile_embedding': array([ 0.1885559 ,  0.02216596, -0.09074964, ...,  0.17200744,\n",
       "         -0.09153228,  0.34097442], dtype=float32),\n",
       "  'banner_embedding': array([-0.04192941, -0.18187144, -0.2035078 , ...,  0.0423746 ,\n",
       "         -0.1658499 ,  0.11950806], dtype=float32)},\n",
       " 'FoxMaysville': {'profile_embedding': array([ 0.1885559 ,  0.02216596, -0.09074964, ...,  0.17200744,\n",
       "         -0.09153228,  0.34097442], dtype=float32),\n",
       "  'banner_embedding': array([-0.04192941, -0.18187144, -0.2035078 , ...,  0.0423746 ,\n",
       "         -0.1658499 ,  0.11950806], dtype=float32)},\n",
       " 'fiendclubla': {'profile_embedding': array([ 0.1885559 ,  0.02216596, -0.09074964, ...,  0.17200744,\n",
       "         -0.09153228,  0.34097442], dtype=float32),\n",
       "  'banner_embedding': array([-0.04192941, -0.18187144, -0.2035078 , ...,  0.0423746 ,\n",
       "         -0.1658499 ,  0.11950806], dtype=float32)},\n",
       " 'Ybbils': {'profile_embedding': array([ 0.1885559 ,  0.02216596, -0.09074964, ...,  0.17200744,\n",
       "         -0.09153228,  0.34097442], dtype=float32),\n",
       "  'banner_embedding': array([-0.04192941, -0.18187144, -0.2035078 , ...,  0.0423746 ,\n",
       "         -0.1658499 ,  0.11950806], dtype=float32)},\n",
       " 'GetMoneyGrice': {'profile_embedding': array([ 0.1885559 ,  0.02216596, -0.09074964, ...,  0.17200744,\n",
       "         -0.09153228,  0.34097442], dtype=float32),\n",
       "  'banner_embedding': array([-0.04192941, -0.18187144, -0.2035078 , ...,  0.0423746 ,\n",
       "         -0.1658499 ,  0.11950806], dtype=float32)}}"
      ]
     },
     "execution_count": 23,
     "metadata": {},
     "output_type": "execute_result"
    }
   ],
   "source": [
    "full_dict"
   ]
  },
  {
   "cell_type": "code",
   "execution_count": 24,
   "metadata": {},
   "outputs": [
    {
     "data": {
      "text/plain": [
       "(2304,)"
      ]
     },
     "execution_count": 24,
     "metadata": {},
     "output_type": "execute_result"
    }
   ],
   "source": [
    "#output shape\n",
    "full_dict['USGS_TexasRain']['profile_embedding'].shape"
   ]
  }
 ],
 "metadata": {
  "kernelspec": {
   "display_name": "Python 3",
   "language": "python",
   "name": "python3"
  },
  "language_info": {
   "codemirror_mode": {
    "name": "ipython",
    "version": 3
   },
   "file_extension": ".py",
   "mimetype": "text/x-python",
   "name": "python",
   "nbconvert_exporter": "python",
   "pygments_lexer": "ipython3",
   "version": "3.7.9"
  }
 },
 "nbformat": 4,
 "nbformat_minor": 4
}
